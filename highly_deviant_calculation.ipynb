{
 "cells": [
  {
   "cell_type": "code",
   "execution_count": 1,
   "metadata": {},
   "outputs": [
    {
     "ename": "KeyboardInterrupt",
     "evalue": "",
     "output_type": "error",
     "traceback": [
      "\u001b[0;31m---------------------------------------------------------------------------\u001b[0m",
      "\u001b[0;31mKeyboardInterrupt\u001b[0m                         Traceback (most recent call last)",
      "Cell \u001b[0;32mIn[1], line 20\u001b[0m\n\u001b[1;32m     17\u001b[0m \u001b[39mimport\u001b[39;00m \u001b[39mscib\u001b[39;00m\n\u001b[1;32m     18\u001b[0m \u001b[39mfrom\u001b[39;00m \u001b[39mscipy\u001b[39;00m \u001b[39mimport\u001b[39;00m stats\n\u001b[0;32m---> 20\u001b[0m \u001b[39mimport\u001b[39;00m \u001b[39manndata2ri\u001b[39;00m\n\u001b[1;32m     21\u001b[0m \u001b[39mimport\u001b[39;00m \u001b[39mlogging\u001b[39;00m\n\u001b[1;32m     23\u001b[0m \u001b[39mimport\u001b[39;00m \u001b[39mrpy2\u001b[39;00m\u001b[39m.\u001b[39;00m\u001b[39mrinterface_lib\u001b[39;00m\u001b[39m.\u001b[39;00m\u001b[39mcallbacks\u001b[39;00m \u001b[39mas\u001b[39;00m \u001b[39mrcb\u001b[39;00m\n",
      "File \u001b[0;32m~/myvenv/lib/python3.10/site-packages/anndata2ri/__init__.py:20\u001b[0m\n\u001b[1;32m     17\u001b[0m \u001b[39mfrom\u001b[39;00m \u001b[39mpathlib\u001b[39;00m \u001b[39mimport\u001b[39;00m Path\n\u001b[1;32m     18\u001b[0m \u001b[39mfrom\u001b[39;00m \u001b[39mtyping\u001b[39;00m \u001b[39mimport\u001b[39;00m TYPE_CHECKING\n\u001b[0;32m---> 20\u001b[0m \u001b[39mfrom\u001b[39;00m \u001b[39m.\u001b[39;00m \u001b[39mimport\u001b[39;00m _py2r, _r2py  \u001b[39m# noqa: F401\u001b[39;00m\n\u001b[1;32m     21\u001b[0m \u001b[39mfrom\u001b[39;00m \u001b[39m.\u001b[39;00m\u001b[39m_conv\u001b[39;00m \u001b[39mimport\u001b[39;00m activate, converter, deactivate\n\u001b[1;32m     24\u001b[0m \u001b[39mif\u001b[39;00m TYPE_CHECKING:\n",
      "File \u001b[0;32m~/myvenv/lib/python3.10/site-packages/anndata2ri/_py2r.py:9\u001b[0m\n\u001b[1;32m      7\u001b[0m \u001b[39mimport\u001b[39;00m \u001b[39mnumpy\u001b[39;00m \u001b[39mas\u001b[39;00m \u001b[39mnp\u001b[39;00m\n\u001b[1;32m      8\u001b[0m \u001b[39mfrom\u001b[39;00m \u001b[39manndata\u001b[39;00m \u001b[39mimport\u001b[39;00m AnnData\n\u001b[0;32m----> 9\u001b[0m \u001b[39mfrom\u001b[39;00m \u001b[39mrpy2\u001b[39;00m\u001b[39m.\u001b[39;00m\u001b[39mrobjects\u001b[39;00m \u001b[39mimport\u001b[39;00m conversion, default_converter, pandas2ri\n\u001b[1;32m     10\u001b[0m \u001b[39mfrom\u001b[39;00m \u001b[39mrpy2\u001b[39;00m\u001b[39m.\u001b[39;00m\u001b[39mrobjects\u001b[39;00m\u001b[39m.\u001b[39;00m\u001b[39mconversion\u001b[39;00m \u001b[39mimport\u001b[39;00m localconverter\n\u001b[1;32m     11\u001b[0m \u001b[39mfrom\u001b[39;00m \u001b[39mrpy2\u001b[39;00m\u001b[39m.\u001b[39;00m\u001b[39mrobjects\u001b[39;00m\u001b[39m.\u001b[39;00m\u001b[39mvectors\u001b[39;00m \u001b[39mimport\u001b[39;00m ListVector\n",
      "File \u001b[0;32m~/myvenv/lib/python3.10/site-packages/rpy2/robjects/__init__.py:16\u001b[0m\n\u001b[1;32m     14\u001b[0m \u001b[39mimport\u001b[39;00m \u001b[39mtypes\u001b[39;00m\n\u001b[1;32m     15\u001b[0m \u001b[39mimport\u001b[39;00m \u001b[39mtyping\u001b[39;00m\n\u001b[0;32m---> 16\u001b[0m \u001b[39mimport\u001b[39;00m \u001b[39mrpy2\u001b[39;00m\u001b[39m.\u001b[39;00m\u001b[39mrinterface\u001b[39;00m \u001b[39mas\u001b[39;00m \u001b[39mrinterface\u001b[39;00m\n\u001b[1;32m     17\u001b[0m \u001b[39mimport\u001b[39;00m \u001b[39mrpy2\u001b[39;00m\u001b[39m.\u001b[39;00m\u001b[39mrinterface_lib\u001b[39;00m\u001b[39m.\u001b[39;00m\u001b[39membedded\u001b[39;00m\n\u001b[1;32m     18\u001b[0m \u001b[39mimport\u001b[39;00m \u001b[39mrpy2\u001b[39;00m\u001b[39m.\u001b[39;00m\u001b[39mrinterface_lib\u001b[39;00m\u001b[39m.\u001b[39;00m\u001b[39mopenrlib\u001b[39;00m\n",
      "File \u001b[0;32m~/myvenv/lib/python3.10/site-packages/rpy2/rinterface.py:19\u001b[0m\n\u001b[1;32m     17\u001b[0m \u001b[39mimport\u001b[39;00m \u001b[39mwarnings\u001b[39;00m\n\u001b[1;32m     18\u001b[0m \u001b[39mfrom\u001b[39;00m \u001b[39mtyping\u001b[39;00m \u001b[39mimport\u001b[39;00m Union\n\u001b[0;32m---> 19\u001b[0m \u001b[39mfrom\u001b[39;00m \u001b[39mrpy2\u001b[39;00m\u001b[39m.\u001b[39;00m\u001b[39mrinterface_lib\u001b[39;00m \u001b[39mimport\u001b[39;00m openrlib\n\u001b[1;32m     20\u001b[0m \u001b[39mimport\u001b[39;00m \u001b[39mrpy2\u001b[39;00m\u001b[39m.\u001b[39;00m\u001b[39mrinterface_lib\u001b[39;00m\u001b[39m.\u001b[39;00m\u001b[39m_rinterface_capi\u001b[39;00m \u001b[39mas\u001b[39;00m \u001b[39m_rinterface\u001b[39;00m\n\u001b[1;32m     21\u001b[0m \u001b[39mimport\u001b[39;00m \u001b[39mrpy2\u001b[39;00m\u001b[39m.\u001b[39;00m\u001b[39mrinterface_lib\u001b[39;00m\u001b[39m.\u001b[39;00m\u001b[39membedded\u001b[39;00m \u001b[39mas\u001b[39;00m \u001b[39membedded\u001b[39;00m\n",
      "File \u001b[0;32m~/myvenv/lib/python3.10/site-packages/rpy2/rinterface_lib/openrlib.py:18\u001b[0m\n\u001b[1;32m     16\u001b[0m \u001b[39melse\u001b[39;00m:\n\u001b[1;32m     17\u001b[0m     \u001b[39mtry\u001b[39;00m:\n\u001b[0;32m---> 18\u001b[0m         \u001b[39mimport\u001b[39;00m \u001b[39m_rinterface_cffi_api\u001b[39;00m \u001b[39mas\u001b[39;00m \u001b[39m_rinterface_cffi\u001b[39;00m  \u001b[39m# type: ignore\u001b[39;00m\n\u001b[1;32m     19\u001b[0m     \u001b[39mexcept\u001b[39;00m \u001b[39mImportError\u001b[39;00m \u001b[39mas\u001b[39;00m ie_api:\n\u001b[1;32m     20\u001b[0m         \u001b[39mtry\u001b[39;00m:\n",
      "File \u001b[0;32m<frozen importlib._bootstrap>:1022\u001b[0m, in \u001b[0;36m_find_and_load\u001b[0;34m(name, import_)\u001b[0m\n",
      "\u001b[0;31mKeyboardInterrupt\u001b[0m: "
     ]
    }
   ],
   "source": [
    "import numpy as np\n",
    "import scipy as sp\n",
    "import matplotlib.pyplot as plt\n",
    "from matplotlib.colors import ListedColormap\n",
    "import seaborn as sns\n",
    "import pandas as pd\n",
    "import scanpy as sc\n",
    "import anndata as ad\n",
    "from sklearn.cluster import AgglomerativeClustering, KMeans\n",
    "from sklearn.metrics import adjusted_rand_score\n",
    "import community\n",
    "import networkx as nx\n",
    "import gzip\n",
    "from scipy.sparse import csc_matrix, csr_matrix\n",
    "import scipy.sparse\n",
    "from scipy.io import mmwrite\n",
    "import scib\n",
    "from scipy import stats\n",
    "\n",
    "import anndata2ri\n",
    "import logging\n",
    "\n",
    "import rpy2.rinterface_lib.callbacks as rcb\n",
    "import rpy2.robjects as ro\n",
    "\n",
    "sc.settings.verbosity = 0\n",
    "sc.settings.set_figure_params(\n",
    "    dpi=80,\n",
    "    facecolor=\"white\",\n",
    "    frameon=False,\n",
    ")\n",
    "\n",
    "rcb.logger.setLevel(logging.ERROR)\n",
    "ro.pandas2ri.activate()\n",
    "anndata2ri.activate()\n",
    "\n",
    "%load_ext rpy2.ipython\n",
    "\n",
    "%matplotlib inline"
   ]
  },
  {
   "cell_type": "code",
   "execution_count": null,
   "metadata": {},
   "outputs": [
    {
     "name": "stderr",
     "output_type": "stream",
     "text": [
      "/home/ubuntu/myvenv/lib/python3.10/site-packages/anndata/_io/specs/registry.py:235: OldFormatWarning: Element '/X' was written without encoding metadata.\n",
      "  return self.callback(read_func, elem.name, elem, iospec=get_spec(elem))\n",
      "/home/ubuntu/myvenv/lib/python3.10/site-packages/anndata/_io/specs/registry.py:235: OldFormatWarning: Element '/layers' was written without encoding metadata.\n",
      "  return self.callback(read_func, elem.name, elem, iospec=get_spec(elem))\n",
      "/home/ubuntu/myvenv/lib/python3.10/site-packages/anndata/_io/specs/registry.py:235: OldFormatWarning: Element '/layers/counts' was written without encoding metadata.\n",
      "  return self.callback(read_func, elem.name, elem, iospec=get_spec(elem))\n",
      "/home/ubuntu/myvenv/lib/python3.10/site-packages/anndata/_io/utils.py:202: OldFormatWarning: Element '/obs/__categories/tech' was written without encoding metadata.\n",
      "  return func(*args, **kwargs)\n",
      "/home/ubuntu/myvenv/lib/python3.10/site-packages/anndata/_io/utils.py:202: OldFormatWarning: Element '/obs/tech' was written without encoding metadata.\n",
      "  return func(*args, **kwargs)\n",
      "/home/ubuntu/myvenv/lib/python3.10/site-packages/anndata/_io/utils.py:202: OldFormatWarning: Element '/obs/__categories/celltype' was written without encoding metadata.\n",
      "  return func(*args, **kwargs)\n",
      "/home/ubuntu/myvenv/lib/python3.10/site-packages/anndata/_io/utils.py:202: OldFormatWarning: Element '/obs/celltype' was written without encoding metadata.\n",
      "  return func(*args, **kwargs)\n",
      "/home/ubuntu/myvenv/lib/python3.10/site-packages/anndata/_io/utils.py:202: OldFormatWarning: Element '/obs/size_factors' was written without encoding metadata.\n",
      "  return func(*args, **kwargs)\n",
      "/home/ubuntu/myvenv/lib/python3.10/site-packages/anndata/_io/utils.py:202: OldFormatWarning: Element '/obs/_index' was written without encoding metadata.\n",
      "  return func(*args, **kwargs)\n",
      "/home/ubuntu/myvenv/lib/python3.10/site-packages/anndata/_io/utils.py:202: OldFormatWarning: Element '/var/_index' was written without encoding metadata.\n",
      "  return func(*args, **kwargs)\n"
     ]
    }
   ],
   "source": [
    "\n",
    "###############\n",
    "dataset=\"human_pancreas_norm_complexBatch\"\n",
    "###############\n",
    "\n",
    "data_dir=\"/goofys/users/Aleksandra_S/benchmarking_datasets/\"+dataset+\".h5ad\"\n",
    "adata=ad.read_h5ad(data_dir)"
   ]
  },
  {
   "cell_type": "code",
   "execution_count": null,
   "metadata": {},
   "outputs": [],
   "source": [
    "adata.obs['batch'] = adata.obs.tech"
   ]
  },
  {
   "cell_type": "code",
   "execution_count": null,
   "metadata": {},
   "outputs": [],
   "source": [
    "unique_batches = adata.obs['batch'].unique()\n",
    "# unpack anndata (divide into batches)\n",
    "# Initialize a dictionary to store the split AnnData objects\n",
    "split_adatas = {}\n",
    "\n",
    "# Split the original AnnData object into separate batches\n",
    "for batch in unique_batches:\n",
    "    mask = adata_raw.obs['batch'] == batch\n",
    "    split_adatas[batch] = adata_raw[mask].copy()\n",
    "adata_list =  [adata for adata in split_adatas.values()]\n",
    "#split_adatas"
   ]
  },
  {
   "cell_type": "code",
   "execution_count": null,
   "metadata": {},
   "outputs": [
    {
     "data": {
      "text/plain": [
       "['celseq', 'celseq2', 'fluidigmc1', 'smartseq2', 'inDrop1', 'inDrop2', 'inDrop3', 'inDrop4', 'smarter']\n",
       "Categories (9, object): ['celseq', 'celseq2', 'fluidigmc1', 'inDrop1', ..., 'inDrop3', 'inDrop4', 'smarter', 'smartseq2']"
      ]
     },
     "execution_count": 8,
     "metadata": {},
     "output_type": "execute_result"
    }
   ],
   "source": [
    "unique_batches"
   ]
  },
  {
   "cell_type": "code",
   "execution_count": null,
   "metadata": {},
   "outputs": [],
   "source": [
    "list_index = 8 # if == \"All\", it means there will be no slicing by cluster\n",
    "slice_name = 'c5'\n",
    "if list_index == 'All':\n",
    "    batch_name = \"\"\n",
    "else:\n",
    "    batch_name = unique_batches[list_index]"
   ]
  },
  {
   "cell_type": "markdown",
   "metadata": {},
   "source": [
    "### Slicing Cluster (optional)"
   ]
  },
  {
   "cell_type": "code",
   "execution_count": null,
   "metadata": {},
   "outputs": [],
   "source": [
    "if list_index != 'All':\n",
    "    adata = adata_list[list_index].copy()"
   ]
  },
  {
   "cell_type": "markdown",
   "metadata": {},
   "source": [
    "## Highly Deviant Genes\n",
    "racuna se nad RAW podacima! <br>\n",
    "quantifies whether genes show a constant expression profile across cells as these are not informative.  <br>\n",
    "Genes with constant expression are described by a multinomial null model, they are approximated by the binomial deviance.  <br>\n",
    "Highly informative genes across cells will have a high deviance value which indicates a poor fit by According to the deviance values, the method then ranks all genes and obtains only highly deviant genes. <br>"
   ]
  },
  {
   "cell_type": "code",
   "execution_count": null,
   "metadata": {},
   "outputs": [],
   "source": [
    "%%R\n",
    "library(scry)"
   ]
  },
  {
   "cell_type": "code",
   "execution_count": null,
   "metadata": {},
   "outputs": [],
   "source": [
    "raw_adata = ad.AnnData(X=adata.layers['counts'])"
   ]
  },
  {
   "cell_type": "code",
   "execution_count": null,
   "metadata": {},
   "outputs": [],
   "source": [
    "ro.globalenv[\"adata\"] = raw_adata"
   ]
  },
  {
   "cell_type": "code",
   "execution_count": null,
   "metadata": {},
   "outputs": [],
   "source": [
    "%%R\n",
    "sce = devianceFeatureSelection(adata, assay=\"X\")"
   ]
  },
  {
   "cell_type": "code",
   "execution_count": null,
   "metadata": {},
   "outputs": [],
   "source": [
    "binomial_deviance = ro.r(\"rowData(sce)$binomial_deviance\").T"
   ]
  },
  {
   "cell_type": "code",
   "execution_count": null,
   "metadata": {},
   "outputs": [],
   "source": [
    "idx = binomial_deviance.argsort()[-5000:]\n",
    "mask = np.zeros(adata.var_names.shape, dtype=bool)\n",
    "mask[idx] = True\n",
    "\n",
    "adata.var[\"highly_deviant\"] = mask\n",
    "adata.var[\"binomial_deviance\"] = binomial_deviance"
   ]
  },
  {
   "cell_type": "code",
   "execution_count": null,
   "metadata": {},
   "outputs": [],
   "source": [
    "highly_deviant_df = adata.var[adata.var.highly_deviant].sort_values(by='binomial_deviance', ascending=False)\n",
    "highly_deviant_names = highly_deviant_df.index.values"
   ]
  },
  {
   "cell_type": "code",
   "execution_count": null,
   "metadata": {},
   "outputs": [],
   "source": [
    "highly_deviant_df.to_csv(f\"/goofys/users/Aleksandra_S/benchmarking_datasets/highly_deviant/highly_deviant_{batch_name}.csv\")"
   ]
  },
  {
   "cell_type": "markdown",
   "metadata": {},
   "source": [
    "# Merging"
   ]
  },
  {
   "cell_type": "code",
   "execution_count": 2,
   "metadata": {},
   "outputs": [],
   "source": [
    "highly_deviant_celseq = pd.read_csv(\"/goofys/users/Aleksandra_S/benchmarking_datasets/highly_deviant/pancreas/highly_deviant_celseq.csv\")\n",
    "highly_deviant_celseq2 = pd.read_csv(\"/goofys/users/Aleksandra_S/benchmarking_datasets/highly_deviant/pancreas/highly_deviant_celseq2.csv\")\n",
    "highly_deviant_fluidigmc1 = pd.read_csv(\"/goofys/users/Aleksandra_S/benchmarking_datasets/highly_deviant/pancreas/highly_deviant_fluidigmc1.csv\")\n",
    "highly_deviant_inDrop1 = pd.read_csv(\"/goofys/users/Aleksandra_S/benchmarking_datasets/highly_deviant/pancreas/highly_deviant_inDrop1.csv\")\n",
    "highly_deviant_inDrop2 = pd.read_csv(\"/goofys/users/Aleksandra_S/benchmarking_datasets/highly_deviant/pancreas/highly_deviant_inDrop2.csv\")\n",
    "highly_deviant_inDrop3 = pd.read_csv(\"/goofys/users/Aleksandra_S/benchmarking_datasets/highly_deviant/pancreas/highly_deviant_inDrop3.csv\")\n",
    "highly_deviant_inDrop4 = pd.read_csv(\"/goofys/users/Aleksandra_S/benchmarking_datasets/highly_deviant/pancreas/highly_deviant_inDrop4.csv\")\n",
    "highly_deviant_smarter = pd.read_csv(\"/goofys/users/Aleksandra_S/benchmarking_datasets/highly_deviant/pancreas/highly_deviant_smarter.csv\")\n",
    "highly_deviant_smartseq2 = pd.read_csv(\"/goofys/users/Aleksandra_S/benchmarking_datasets/highly_deviant/pancreas/highly_deviant_smartseq2.csv\")"
   ]
  },
  {
   "cell_type": "code",
   "execution_count": 3,
   "metadata": {},
   "outputs": [
    {
     "data": {
      "text/plain": [
       "array(['GCG', 'SST', 'REG1A', ..., 'C14orf2', 'SUCLG1', 'NDUFB6'],\n",
       "      dtype=object)"
      ]
     },
     "execution_count": 3,
     "metadata": {},
     "output_type": "execute_result"
    }
   ],
   "source": [
    "highly_deviant_celseq[\"Unnamed: 0\"].values[:2000]"
   ]
  },
  {
   "cell_type": "code",
   "execution_count": 4,
   "metadata": {},
   "outputs": [],
   "source": [
    "highly_deviant_celseq_hvgs = highly_deviant_celseq[\"Unnamed: 0\"].values[:2000] \n",
    "highly_deviant_celseq2_hvgs = highly_deviant_celseq2[\"Unnamed: 0\"].values[:2000]\n",
    "highly_deviant_fluidigmc1_hvgs = highly_deviant_fluidigmc1[\"Unnamed: 0\"].values[:2000]\n",
    "highly_deviant_inDrop1_hvgs = highly_deviant_inDrop1[\"Unnamed: 0\"].values[:2000]\n",
    "highly_deviant_inDrop2_hvgs = highly_deviant_inDrop2[\"Unnamed: 0\"].values[:2000]\n",
    "highly_deviant_inDrop3_hvgs = highly_deviant_inDrop3[\"Unnamed: 0\"].values[:2000]\n",
    "highly_deviant_inDrop4_hvgs = highly_deviant_inDrop4[\"Unnamed: 0\"].values[:2000]\n",
    "highly_deviant_smarter_hvgs = highly_deviant_smarter[\"Unnamed: 0\"].values[:2000]\n",
    "highly_deviant_smartseq2_hvgs = highly_deviant_smartseq2[\"Unnamed: 0\"].values[:2000]"
   ]
  },
  {
   "cell_type": "code",
   "execution_count": 5,
   "metadata": {},
   "outputs": [
    {
     "data": {
      "text/plain": [
       "array(['GCG', 'SST', 'REG1A', ..., 'C14orf2', 'SUCLG1', 'NDUFB6'],\n",
       "      dtype=object)"
      ]
     },
     "execution_count": 5,
     "metadata": {},
     "output_type": "execute_result"
    }
   ],
   "source": [
    "highly_deviant_celseq_hvgs"
   ]
  },
  {
   "cell_type": "code",
   "execution_count": 6,
   "metadata": {},
   "outputs": [],
   "source": [
    "hdgs_union = set(highly_deviant_celseq_hvgs).union(highly_deviant_celseq2_hvgs, highly_deviant_fluidigmc1_hvgs, highly_deviant_inDrop1_hvgs, highly_deviant_inDrop2_hvgs, highly_deviant_inDrop3_hvgs, highly_deviant_inDrop4_hvgs, highly_deviant_smarter_hvgs, highly_deviant_smartseq2_hvgs)"
   ]
  },
  {
   "cell_type": "code",
   "execution_count": 7,
   "metadata": {},
   "outputs": [],
   "source": [
    "batches = [highly_deviant_celseq_hvgs, highly_deviant_celseq2_hvgs, highly_deviant_fluidigmc1_hvgs, highly_deviant_inDrop1_hvgs, highly_deviant_inDrop2_hvgs, highly_deviant_inDrop3_hvgs, highly_deviant_inDrop4_hvgs, highly_deviant_smarter_hvgs, highly_deviant_smartseq2_hvgs]"
   ]
  },
  {
   "cell_type": "code",
   "execution_count": 8,
   "metadata": {},
   "outputs": [],
   "source": [
    "hdg_in_batch = np.zeros(shape=len(hdgs_union))\n",
    "for i, hdg in enumerate(hdgs_union):\n",
    "    for batch in batches:\n",
    "        if hdg in batch:\n",
    "            hdg_in_batch[i]+=np.where(batch == hdg)[0][0]\n",
    "\n"
   ]
  },
  {
   "cell_type": "code",
   "execution_count": 9,
   "metadata": {},
   "outputs": [],
   "source": [
    "top_2000_indices = np.argsort(hdg_in_batch)[::-1][:2000]"
   ]
  },
  {
   "cell_type": "code",
   "execution_count": 10,
   "metadata": {},
   "outputs": [],
   "source": [
    "final_2000_hdgs = [list(hdgs_union)[i] for i in top_2000_indices]"
   ]
  },
  {
   "cell_type": "code",
   "execution_count": 11,
   "metadata": {},
   "outputs": [],
   "source": [
    "final_2000_hdgs_arr = np.array(list(hdgs_union))[top_2000_indices]"
   ]
  },
  {
   "cell_type": "code",
   "execution_count": 12,
   "metadata": {},
   "outputs": [
    {
     "data": {
      "text/plain": [
       "array(['CCT2', 'LMAN1', 'GNG12', ..., 'FASN', 'CCDC105', 'C1orf189'],\n",
       "      dtype='<U11')"
      ]
     },
     "execution_count": 12,
     "metadata": {},
     "output_type": "execute_result"
    }
   ],
   "source": [
    "final_2000_hdgs_arr"
   ]
  },
  {
   "cell_type": "code",
   "execution_count": 14,
   "metadata": {},
   "outputs": [],
   "source": [
    "# final_2000_hdgs"
   ]
  },
  {
   "cell_type": "code",
   "execution_count": 18,
   "metadata": {},
   "outputs": [],
   "source": [
    "np.save(\"/goofys/users/Aleksandra_S/benchmarking_datasets/highly_deviant/pancreas/final_2000_hdgs.npy\", final_2000_hdgs_arr)"
   ]
  }
 ],
 "metadata": {
  "kernelspec": {
   "display_name": "myenv",
   "language": "python",
   "name": "myenv"
  },
  "language_info": {
   "codemirror_mode": {
    "name": "ipython",
    "version": 3
   },
   "file_extension": ".py",
   "mimetype": "text/x-python",
   "name": "python",
   "nbconvert_exporter": "python",
   "pygments_lexer": "ipython3",
   "version": "3.10.12"
  },
  "orig_nbformat": 4
 },
 "nbformat": 4,
 "nbformat_minor": 2
}
