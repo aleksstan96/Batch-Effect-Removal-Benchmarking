{
 "cells": [
  {
   "cell_type": "code",
   "execution_count": 1,
   "metadata": {},
   "outputs": [
    {
     "name": "stdout",
     "output_type": "stream",
     "text": [
      "\u001b[H\u001b[2J"
     ]
    },
    {
     "name": "stderr",
     "output_type": "stream",
     "text": [
      "/home/ubuntu/benchmarking_venv/lib/python3.10/site-packages/anndata/_io/specs/registry.py:235: OldFormatWarning: Element '/X' was written without encoding metadata.\n",
      "  return self.callback(read_func, elem.name, elem, iospec=get_spec(elem))\n",
      "/home/ubuntu/benchmarking_venv/lib/python3.10/site-packages/anndata/_io/specs/registry.py:235: OldFormatWarning: Element '/layers' was written without encoding metadata.\n",
      "  return self.callback(read_func, elem.name, elem, iospec=get_spec(elem))\n",
      "/home/ubuntu/benchmarking_venv/lib/python3.10/site-packages/anndata/_io/specs/registry.py:235: OldFormatWarning: Element '/layers/counts' was written without encoding metadata.\n",
      "  return self.callback(read_func, elem.name, elem, iospec=get_spec(elem))\n",
      "/home/ubuntu/benchmarking_venv/lib/python3.10/site-packages/anndata/_io/utils.py:202: OldFormatWarning: Element '/obs/__categories/tech' was written without encoding metadata.\n",
      "  return func(*args, **kwargs)\n",
      "/home/ubuntu/benchmarking_venv/lib/python3.10/site-packages/anndata/_io/utils.py:202: OldFormatWarning: Element '/obs/tech' was written without encoding metadata.\n",
      "  return func(*args, **kwargs)\n",
      "/home/ubuntu/benchmarking_venv/lib/python3.10/site-packages/anndata/_io/utils.py:202: OldFormatWarning: Element '/obs/__categories/celltype' was written without encoding metadata.\n",
      "  return func(*args, **kwargs)\n",
      "/home/ubuntu/benchmarking_venv/lib/python3.10/site-packages/anndata/_io/utils.py:202: OldFormatWarning: Element '/obs/celltype' was written without encoding metadata.\n",
      "  return func(*args, **kwargs)\n",
      "/home/ubuntu/benchmarking_venv/lib/python3.10/site-packages/anndata/_io/utils.py:202: OldFormatWarning: Element '/obs/size_factors' was written without encoding metadata.\n",
      "  return func(*args, **kwargs)\n",
      "/home/ubuntu/benchmarking_venv/lib/python3.10/site-packages/anndata/_io/utils.py:202: OldFormatWarning: Element '/obs/_index' was written without encoding metadata.\n",
      "  return func(*args, **kwargs)\n",
      "/home/ubuntu/benchmarking_venv/lib/python3.10/site-packages/anndata/_io/utils.py:202: OldFormatWarning: Element '/var/_index' was written without encoding metadata.\n",
      "  return func(*args, **kwargs)\n"
     ]
    }
   ],
   "source": [
    "import scanpy as sc \n",
    "import torch\n",
    "import matplotlib.pyplot as plt\n",
    "import os\n",
    "from harmony import harmonize\n",
    "import scib\n",
    "import numpy as np\n",
    "import anndata as ad\n",
    "from sklearn.metrics.cluster import adjusted_rand_score,normalized_mutual_info_score\n",
    "os.system(\"clear\")\n",
    "\n",
    "###############\n",
    "dataset=\"human_pancreas_norm_complexBatch\"\n",
    "###############\n",
    "\n",
    "data_dir=\"/goofys/users/Aleksandra_S/benchmarking_datasets/\"+dataset+\".h5ad\"\n",
    "adata_raw=ad.read_h5ad(data_dir)\n",
    "adata_raw.obs['batch'] = adata_raw.obs.tech\n",
    "# print_dataset_information(adata_raw,batch_key=\"BATCH\",celltype_key=\"celltype\")"
   ]
  },
  {
   "cell_type": "code",
   "execution_count": 2,
   "metadata": {},
   "outputs": [
    {
     "ename": "NameError",
     "evalue": "name 'adata' is not defined",
     "output_type": "error",
     "traceback": [
      "\u001b[0;31m---------------------------------------------------------------------------\u001b[0m",
      "\u001b[0;31mNameError\u001b[0m                                 Traceback (most recent call last)",
      "Cell \u001b[0;32mIn[2], line 2\u001b[0m\n\u001b[1;32m      1\u001b[0m metrics_scvi \u001b[39m=\u001b[39m scib\u001b[39m.\u001b[39mmetrics\u001b[39m.\u001b[39mmetrics_fast(\n\u001b[0;32m----> 2\u001b[0m     adata, adata_scvi, batch_key, label_key, embed\u001b[39m=\u001b[39m\u001b[39m\"\u001b[39m\u001b[39mX_scVI\u001b[39m\u001b[39m\"\u001b[39m\n\u001b[1;32m      3\u001b[0m )\n\u001b[1;32m      4\u001b[0m \u001b[39m# metrics_scanvi = scib.metrics.metrics_fast(\u001b[39;00m\n\u001b[1;32m      5\u001b[0m \u001b[39m#     adata, adata_scanvi, batch_key, label_key, embed=\"X_scANVI\"\u001b[39;00m\n\u001b[1;32m      6\u001b[0m \u001b[39m# )\u001b[39;00m\n\u001b[1;32m      7\u001b[0m \u001b[39m# metrics_bbknn = scib.metrics.metrics_fast(adata, adata_bbknn, batch_key, label_key)\u001b[39;00m\n\u001b[1;32m      8\u001b[0m \u001b[39m# metrics_seurat = scib.metrics.metrics_fast(adata, adata_seurat, batch_key, label_key)\u001b[39;00m\n\u001b[1;32m      9\u001b[0m \u001b[39m# metrics_hvg = scib.metrics.metrics_fast(adata, adata_hvg, batch_key, label_key)\u001b[39;00m\n",
      "\u001b[0;31mNameError\u001b[0m: name 'adata' is not defined"
     ]
    }
   ],
   "source": [
    "metrics_scvi = scib.metrics.metrics_fast(\n",
    "    adata_raw, adata_scvi, batch_key, label_key, embed=\"X_scVI\"\n",
    ")\n",
    "# metrics_scanvi = scib.metrics.metrics_fast(\n",
    "#     adata, adata_scanvi, batch_key, label_key, embed=\"X_scANVI\"\n",
    "# )\n",
    "# metrics_bbknn = scib.metrics.metrics_fast(adata, adata_bbknn, batch_key, label_key)\n",
    "# metrics_seurat = scib.metrics.metrics_fast(adata, adata_seurat, batch_key, label_key)\n",
    "# metrics_hvg = scib.metrics.metrics_fast(adata, adata_hvg, batch_key, label_key)"
   ]
  },
  {
   "cell_type": "code",
   "execution_count": null,
   "metadata": {},
   "outputs": [],
   "source": []
  }
 ],
 "metadata": {
  "kernelspec": {
   "display_name": "benchmarking_venv",
   "language": "python",
   "name": "benchmarking_venv"
  },
  "language_info": {
   "codemirror_mode": {
    "name": "ipython",
    "version": 3
   },
   "file_extension": ".py",
   "mimetype": "text/x-python",
   "name": "python",
   "nbconvert_exporter": "python",
   "pygments_lexer": "ipython3",
   "version": "3.10.12"
  },
  "orig_nbformat": 4
 },
 "nbformat": 4,
 "nbformat_minor": 2
}
